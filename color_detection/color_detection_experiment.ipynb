{
 "cells": [
  {
   "cell_type": "code",
   "execution_count": null,
   "id": "2aa9a444",
   "metadata": {},
   "outputs": [],
   "source": [
    "import numpy as np\n",
    "import cv2\n",
    "from matplotlib import pyplot as plt\n",
    "\n",
    "# img = cv2.imread(\"../img/eardrops.jpg\")\n",
    "img = cv2.imread(\"../img/lego.png\")\n",
    "\n",
    "img = cv2.cvtColor(img, cv2.COLOR_BGR2RGB)\n",
    "\n",
    "plt.imshow(img)\n",
    "plt.show()"
   ]
  },
  {
   "cell_type": "code",
   "execution_count": null,
   "id": "eb84d95a",
   "metadata": {},
   "outputs": [],
   "source": []
  },
  {
   "cell_type": "code",
   "execution_count": null,
   "id": "4de61013",
   "metadata": {},
   "outputs": [],
   "source": [
    "# K Means clustering\n",
    "\n",
    "# Convert to float32 array of N x 3, where each row is a pixel (R, G, B)\n",
    "pixels = np.float32(img.reshape(-1, 3))\n",
    "\n",
    "K = 5\n",
    "criteria = (cv2.TERM_CRITERIA_EPS + cv2.TERM_CRITERIA_MAX_ITER, 10, 1.0)\n",
    "flags = cv2.KMEANS_RANDOM_CENTERS\n",
    "\n",
    "_, labels, palette = cv2.kmeans(pixels, K, None, criteria, 10, flags)\n",
    "_, counts = np.unique(labels, return_counts=True)\n",
    "\n",
    "average = img.mean(axis=0).mean(axis=0)\n",
    "dominant = palette[np.argmax(counts)]\n",
    "print(average)\n",
    "print(dominant)"
   ]
  },
  {
   "cell_type": "code",
   "execution_count": null,
   "id": "217bab66",
   "metadata": {},
   "outputs": [],
   "source": [
    "avg_patch = np.ones(shape=img.shape, dtype=np.uint8)*np.uint8(average)\n",
    "\n",
    "indices = np.argsort(counts)[::-1]   \n",
    "freqs = np.cumsum(np.hstack([[0], counts[indices]/float(counts.sum())]))\n",
    "rows = np.int_(img.shape[0]*freqs)\n",
    "\n",
    "dom_patch = np.zeros(shape=img.shape, dtype=np.uint8)\n",
    "for i in range(len(rows) - 1):\n",
    "    dom_patch[rows[i]:rows[i + 1], :, :] += np.uint8(palette[indices[i]])\n",
    "    \n",
    "fig, (ax0, ax1) = plt.subplots(1, 2, figsize=(12,6))\n",
    "ax0.imshow(avg_patch)\n",
    "ax0.set_title('Average color')\n",
    "ax0.axis('off')\n",
    "ax1.imshow(dom_patch)\n",
    "ax1.set_title('Dominant colors')\n",
    "ax1.axis('off')\n",
    "plt.show(fig)"
   ]
  },
  {
   "cell_type": "code",
   "execution_count": null,
   "id": "ed962e8a",
   "metadata": {},
   "outputs": [],
   "source": []
  }
 ],
 "metadata": {
  "kernelspec": {
   "display_name": "Python 3 (ipykernel)",
   "language": "python",
   "name": "python3"
  },
  "language_info": {
   "codemirror_mode": {
    "name": "ipython",
    "version": 3
   },
   "file_extension": ".py",
   "mimetype": "text/x-python",
   "name": "python",
   "nbconvert_exporter": "python",
   "pygments_lexer": "ipython3",
   "version": "3.9.7"
  }
 },
 "nbformat": 4,
 "nbformat_minor": 5
}
